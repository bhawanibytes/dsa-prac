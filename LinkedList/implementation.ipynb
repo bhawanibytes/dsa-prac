{
 "cells": [
  {
   "cell_type": "code",
   "execution_count": null,
   "id": "0c39944b",
   "metadata": {},
   "outputs": [],
   "source": [
    "# # TODO\n",
    "\n",
    "# # insert from:\n",
    "# head --> done\n",
    "# tail (append) --> done\n",
    "# middle of linkedlist (insert) --> done\n",
    "\n",
    "# # Traverse\n",
    "# print --> done\n",
    "\n",
    "# # Delete by:\n",
    "# clear LinkedList --> done\n",
    "# head --> done\n",
    "# tail (pop) --> done\n",
    "# value (remove) --> done\n",
    "# index --> done\n",
    "\n",
    "# # Search:\n",
    "# value --> done\n",
    "# index --> done"
   ]
  },
  {
   "cell_type": "markdown",
   "id": "918e00ae",
   "metadata": {},
   "source": []
  },
  {
   "cell_type": "code",
   "execution_count": 309,
   "id": "ec27a261",
   "metadata": {},
   "outputs": [],
   "source": [
    "class Node: \n",
    "  def __init__(self, value):\n",
    "    self.data = value\n",
    "    self.next = None"
   ]
  },
  {
   "cell_type": "code",
   "execution_count": null,
   "id": "b8076acc",
   "metadata": {},
   "outputs": [],
   "source": [
    "class LinkedList:\n",
    "    def __init__(self):\n",
    "        # number of nodes in linked list\n",
    "        self.nodes = 0\n",
    "        self.head = None\n",
    "\n",
    "    def __len__(self):\n",
    "        return self.nodes\n",
    "\n",
    "    def insert_head(self, value):\n",
    "        # new node\n",
    "        new_node = Node(value)\n",
    "        # connecting new head\n",
    "        new_node.next = self.head\n",
    "        # reassign new head\n",
    "        self.head = new_node\n",
    "        # incrementing number of nodes\n",
    "        self.nodes = self.nodes + 1\n",
    "\n",
    "    def __str__(self):\n",
    "        curr = self.head\n",
    "        result = \"\"\n",
    "        while curr is not None:\n",
    "            result = result + str(curr.data) + \"->\"\n",
    "            curr = curr.next\n",
    "        return result[:-2]\n",
    "\n",
    "    def append(self, value):\n",
    "        new_node = Node(value)\n",
    "        # Only if linkedList is empty\n",
    "        if self.nodes == 0:\n",
    "            self.head = new_node\n",
    "            self.nodes = self.nodes + 1\n",
    "            return\n",
    "        # continue only if linkedlist is not empty\n",
    "        curr = self.head\n",
    "        while curr.next is not None:\n",
    "            curr = curr.next\n",
    "        curr.next = new_node\n",
    "        self.nodes = self.nodes + 1\n",
    "\n",
    "    def insert_after(self, after, value):\n",
    "        new_node = Node(value)\n",
    "        curr = self.head\n",
    "        while curr is not None:\n",
    "            if curr.data == after:\n",
    "                new_node.next = curr.next\n",
    "                curr.next = new_node\n",
    "                self.nodes = self.nodes + 1\n",
    "                return\n",
    "            curr = curr.next\n",
    "        return \"Item not found\"\n",
    "\n",
    "    # delete methods\n",
    "    def clear(self):\n",
    "        self.head = None\n",
    "        self.nodes = 0\n",
    "\n",
    "    def delete_head(self):\n",
    "        if self.head is not None:\n",
    "            self.head = self.head.next\n",
    "            self.nodes = self.nodes - 1\n",
    "            return\n",
    "        return \"Empty LL\"\n",
    "\n",
    "    def pop(self):\n",
    "        curr = self.head\n",
    "        if self.nodes <= 1:\n",
    "            return self.delete_head()\n",
    "        while curr.next.next is not None:\n",
    "            curr = curr.next\n",
    "        curr.next = None\n",
    "        self.nodes = self.nodes - 1\n",
    "\n",
    "    def remove(self, value):\n",
    "        if self.head is None:\n",
    "            return \"Empty LL\"\n",
    "\n",
    "        if self.head.data is value:\n",
    "            return self.delete_head()\n",
    "\n",
    "        curr = self.head\n",
    "\n",
    "        while curr.next is not None:\n",
    "            if curr.next.data == value:\n",
    "                break\n",
    "            curr = curr.next\n",
    "\n",
    "        if curr.next is None:\n",
    "            return \"Not Found\"\n",
    "        else:\n",
    "            curr.next = curr.next.next\n",
    "            self.nodes = self.nodes - 1\n",
    "\n",
    "    def __delitem__(self, index):\n",
    "        if self.nodes == 0:\n",
    "            return \"LinkedList is Empty\"\n",
    "        if self.nodes <= index | index < 0:\n",
    "            raise IndexError(\"out of index\")\n",
    "        if index == 0:\n",
    "            return self.delete_head()\n",
    "        curr = self.head\n",
    "        pos = 0\n",
    "\n",
    "        while pos <= index - 1:\n",
    "            if pos == index - 1:\n",
    "                curr.next = curr.next.next\n",
    "                self.nodes = self.nodes - 1\n",
    "                return\n",
    "            pos = pos + 1\n",
    "            curr = curr.next\n",
    "\n",
    "    # searching/reading method\n",
    "    def search(self, value):\n",
    "        curr = self.head\n",
    "        pos = 0\n",
    "        while curr is not None:\n",
    "            if curr.data == value:\n",
    "                return pos\n",
    "            curr = curr.next\n",
    "            pos = pos + 1\n",
    "        return f\"{value} is not LinkedList\"\n",
    "\n",
    "    def __getitem__(self, index):\n",
    "        if self.nodes <= index:\n",
    "            return IndexError(\"out of index\")\n",
    "        pos = 0\n",
    "        curr = self.head\n",
    "        while pos <= index:\n",
    "            if pos == index:\n",
    "                return curr.data\n",
    "            curr = curr.next\n",
    "            pos = pos + 1\n",
    "\n",
    "    # def\n"
   ]
  },
  {
   "cell_type": "code",
   "execution_count": 359,
   "id": "57314ef5",
   "metadata": {},
   "outputs": [],
   "source": [
    "L = LinkedList()"
   ]
  },
  {
   "cell_type": "code",
   "execution_count": 360,
   "id": "eabc29b8",
   "metadata": {},
   "outputs": [],
   "source": [
    "L.insert_head(1)\n",
    "L.insert_head(2)\n",
    "L.insert_head(3)\n",
    "L.insert_head(4)\n",
    "L.append(5)"
   ]
  },
  {
   "cell_type": "code",
   "execution_count": 374,
   "id": "91e72794",
   "metadata": {},
   "outputs": [],
   "source": [
    "del L[0]"
   ]
  },
  {
   "cell_type": "code",
   "execution_count": 376,
   "id": "f0bb3958",
   "metadata": {},
   "outputs": [
    {
     "name": "stdout",
     "output_type": "stream",
     "text": [
      "\n",
      "0\n"
     ]
    }
   ],
   "source": [
    "print(L)\n",
    "print(L.nodes)"
   ]
  },
  {
   "cell_type": "code",
   "execution_count": 25,
   "id": "963b69ab",
   "metadata": {},
   "outputs": [
    {
     "data": {
      "text/plain": [
       "2898392493440"
      ]
     },
     "execution_count": 25,
     "metadata": {},
     "output_type": "execute_result"
    }
   ],
   "source": [
    "int(0x000002A2D5A7AD80)"
   ]
  }
 ],
 "metadata": {
  "kernelspec": {
   "display_name": "Python 3",
   "language": "python",
   "name": "python3"
  },
  "language_info": {
   "codemirror_mode": {
    "name": "ipython",
    "version": 3
   },
   "file_extension": ".py",
   "mimetype": "text/x-python",
   "name": "python",
   "nbconvert_exporter": "python",
   "pygments_lexer": "ipython3",
   "version": "3.12.10"
  }
 },
 "nbformat": 4,
 "nbformat_minor": 5
}
